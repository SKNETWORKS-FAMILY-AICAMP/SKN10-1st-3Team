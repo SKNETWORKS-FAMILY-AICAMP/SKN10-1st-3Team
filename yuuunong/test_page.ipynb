{
 "cells": [
  {
   "cell_type": "code",
   "execution_count": 1,
   "metadata": {},
   "outputs": [],
   "source": [
    "import streamlit as st\n",
    "import pandas as pd"
   ]
  },
  {
   "cell_type": "code",
   "execution_count": null,
   "metadata": {},
   "outputs": [],
   "source": [
    "conn = st.connection(\"car_db\", type=\"sql\", autocommit = True) #connection. 뒤에있는것이 이름\n",
    "\n",
    "sql = \"\"\"\n",
    "    select\n",
    "        *\n",
    "    from car_data\n",
    "    where 1=1\n",
    "    and usages = '0'\n",
    "    and gun_gu = '계'\n",
    ";\n",
    "\"\"\"\n",
    "\n",
    "df = conn.query(sql, ttl=3600)"
   ]
  }
 ],
 "metadata": {
  "kernelspec": {
   "display_name": ".venv",
   "language": "python",
   "name": "python3"
  },
  "language_info": {
   "codemirror_mode": {
    "name": "ipython",
    "version": 3
   },
   "file_extension": ".py",
   "mimetype": "text/x-python",
   "name": "python",
   "nbconvert_exporter": "python",
   "pygments_lexer": "ipython3",
   "version": "3.13.1"
  }
 },
 "nbformat": 4,
 "nbformat_minor": 2
}
